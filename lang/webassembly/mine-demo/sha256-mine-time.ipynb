{
 "cells": [
  {
   "cell_type": "markdown",
   "metadata": {},
   "source": [
    "# Mine time\n",
    "\n",
    "Time taken to perform work in javascript vs Rust compiled to WASM.\n",
    "\n",
    "The work is the time taken to find a sha256 hash for a given string that starts with 5 0's `00000`, incrementing a number at the end till the 5 0's are found\n",
    "\n",
    "eg for a string `\"hello\"` starting at `hello1` this will occur when `hello156056` gets run meaning 156,056 iterations of the sha256 algorithm to give a hash answer of `\"0000037660ee0e22df67a053537e000325bbfad2cce9b8b7c795f6aa961d5cb7\"`.\n",
    "\n",
    "compare the time take in JS, Rust compiled to WASM and writing WAST from scratch."
   ]
  },
  {
   "cell_type": "code",
   "execution_count": 60,
   "metadata": {},
   "outputs": [
    {
     "name": "stderr",
     "output_type": "stream",
     "text": [
      "/usr/local/lib/python3.7/site-packages/scipy/stats/stats.py:1713: FutureWarning: Using a non-tuple sequence for multidimensional indexing is deprecated; use `arr[tuple(seq)]` instead of `arr[seq]`. In the future this will be interpreted as an array index, `arr[np.array(seq)]`, which will result either in an error or a different result.\n",
      "  return np.add.reduce(sorted[indexer] * weights, axis=axis) / sumval\n"
     ]
    },
    {
     "data": {
      "image/png": "[encoded data removed]",
      "text/plain": [
       "<Figure size 360x360 with 1 Axes>"
      ]
     },
     "metadata": {},
     "output_type": "display_data"
    },
    {
     "data": {
      "text/html": [
       "<div>\n",
       "<style scoped>\n",
       "    .dataframe tbody tr th:only-of-type {\n",
       "        vertical-align: middle;\n",
       "    }\n",
       "\n",
       "    .dataframe tbody tr th {\n",
       "        vertical-align: top;\n",
       "    }\n",
       "\n",
       "    .dataframe thead th {\n",
       "        text-align: right;\n",
       "    }\n",
       "</style>\n",
       "<table border=\"1\" class=\"dataframe\">\n",
       "  <thead>\n",
       "    <tr style=\"text-align: right;\">\n",
       "      <th></th>\n",
       "      <th>JS (crypto)</th>\n",
       "      <th>Rust (WASM)</th>\n",
       "      <th>WAST</th>\n",
       "      <th>Rust (cmd line)</th>\n",
       "    </tr>\n",
       "  </thead>\n",
       "  <tbody>\n",
       "    <tr>\n",
       "      <th>0</th>\n",
       "      <td>24311.983154</td>\n",
       "      <td>20595.083008</td>\n",
       "      <td>0</td>\n",
       "      <td>13491.0</td>\n",
       "    </tr>\n",
       "    <tr>\n",
       "      <th>1</th>\n",
       "      <td>23726.912109</td>\n",
       "      <td>21420.069824</td>\n",
       "      <td>0</td>\n",
       "      <td>14662.0</td>\n",
       "    </tr>\n",
       "    <tr>\n",
       "      <th>2</th>\n",
       "      <td>24154.236084</td>\n",
       "      <td>21448.466797</td>\n",
       "      <td>0</td>\n",
       "      <td>14095.0</td>\n",
       "    </tr>\n",
       "  </tbody>\n",
       "</table>\n",
       "</div>"
      ],
      "text/plain": [
       "    JS (crypto)           Rust (WASM)         WAST   Rust (cmd line)\n",
       "0  24311.983154          20595.083008            0           13491.0\n",
       "1  23726.912109          21420.069824            0           14662.0\n",
       "2  24154.236084          21448.466797            0           14095.0"
      ]
     },
     "execution_count": 60,
     "metadata": {},
     "output_type": "execute_result"
    }
   ],
   "source": [
    "import sys\n",
    "# uncomment if libraries are needed to be imported\n",
    "# !{sys.executable} -m pip install seaborn\n",
    "\n",
    "import pandas as pd\n",
    "import matplotlib.pyplot as plt\n",
    "import seaborn as sns\n",
    "sns.set(style=\"darkgrid\")\n",
    "from io import StringIO    \n",
    "\n",
    "f = StringIO('''\\\n",
    "JS (crypto),         Rust (WASM),       WAST, Rust (cmd line)\n",
    "24311.983154296875,  20595.0830078125,  0,    13491.0\n",
    "23726.912109375,     21420.06982421875, 0,    14662.0\n",
    "24154.236083984375,  21448.466796875,   0,    14095.0\n",
    "''')\n",
    "\n",
    "df = pd.read_csv(f)\n",
    "\n",
    "# without sns could just do this\n",
    "# df.mean().plot(kind='bar')\n",
    "\n",
    "ax = sns.catplot(kind=\"bar\", data=df)\n",
    "ax.set(xlabel='version', ylabel='milliseconds')\n",
    "\n",
    "plt.show()\n",
    "\n",
    "df"
   ]
  }
 ],
 "metadata": {
  "kernelspec": {
   "display_name": "Python 3",
   "language": "python",
   "name": "python3"
  },
  "language_info": {
   "codemirror_mode": {
    "name": "ipython",
    "version": 3
   },
   "file_extension": ".py",
   "mimetype": "text/x-python",
   "name": "python",
   "nbconvert_exporter": "python",
   "pygments_lexer": "ipython3",
   "version": "3.7.6"
  }
 },
 "nbformat": 4,
 "nbformat_minor": 2
}
